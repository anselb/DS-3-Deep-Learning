{
 "cells": [
  {
   "cell_type": "code",
   "execution_count": null,
   "metadata": {},
   "outputs": [],
   "source": [
    "import keras\n",
    "from keras.models import Sequential\n",
    "from keras.layers import Dense, Conv2D, MaxPooling2D, Activation, Dropout, Flatten\n",
    "import matplotlib.pyplot as plt\n",
    "import numpy as np\n",
    "import scipy\n",
    "%matplotlib inline"
   ]
  },
  {
   "cell_type": "code",
   "execution_count": null,
   "metadata": {},
   "outputs": [],
   "source": [
    "import glob\n",
    "# import imageio\n",
    "from skimage import color\n",
    "from skimage import io\n",
    "from skimage.transform import resize\n",
    "\n",
    "fruit_types = glob.glob('../datasets/fruits-360/Training/*')\n",
    "fruit_types.sort\n",
    "fruit_types\n",
    "X_train = []\n",
    "y_train = []\n",
    "for i in range(len(fruit_types)):\n",
    "    fruit_images = glob.glob(fruit_types[i] + '/*')\n",
    "    for image in fruit_images:\n",
    "        gray_image = color.rgb2gray(io.imread(image))\n",
    "        resize_image = resize(gray_image, (gray_image.shape[0] / 4, gray_image.shape[1] / 4), mode='constant')\n",
    "        X_train += [resize_image]\n",
    "        y_train.append(i)\n",
    "plt.imshow(X_train[0])"
   ]
  },
  {
   "cell_type": "code",
   "execution_count": null,
   "metadata": {},
   "outputs": [],
   "source": [
    "test_types = glob.glob('../datasets/fruits-360/Validation/*')\n",
    "test_types.sort\n",
    "test_types\n",
    "X_test = []\n",
    "y_test = []\n",
    "for i in range(len(test_types)):\n",
    "    test_images = glob.glob(test_types[i] + '/*')\n",
    "    for image in test_images:\n",
    "        gray_image = color.rgb2gray(io.imread(image))\n",
    "        resize_image = resize(gray_image, (gray_image.shape[0] / 4, gray_image.shape[1] / 4), mode='constant')\n",
    "        X_test += [resize_image]\n",
    "        y_test.append(i)\n",
    "plt.imshow(X_test[0])"
   ]
  },
  {
   "cell_type": "code",
   "execution_count": null,
   "metadata": {},
   "outputs": [],
   "source": [
    "X_train = np.array(X_train)\n",
    "X_test = np.array(X_test)\n",
    "\n",
    "print(\"Shape of X_train: {}\".format(X_train.shape))\n",
    "print(\"Shape of X_test: {}\".format(X_test.shape))"
   ]
  },
  {
   "cell_type": "code",
   "execution_count": null,
   "metadata": {},
   "outputs": [],
   "source": [
    "X_train = X_train.reshape(29228, 625).astype('float32')\n",
    "X_test = X_test.reshape(9837, 625).astype('float32')"
   ]
  },
  {
   "cell_type": "code",
   "execution_count": null,
   "metadata": {},
   "outputs": [],
   "source": [
    "X_test[0]"
   ]
  },
  {
   "cell_type": "code",
   "execution_count": null,
   "metadata": {
    "collapsed": true
   },
   "outputs": [],
   "source": [
    "# X_train /= 255\n",
    "# X_test /= 255"
   ]
  },
  {
   "cell_type": "code",
   "execution_count": null,
   "metadata": {
    "collapsed": true
   },
   "outputs": [],
   "source": [
    "y_train = keras.utils.to_categorical(y_train, 60)\n",
    "y_test = keras.utils.to_categorical(y_test, 60)"
   ]
  },
  {
   "cell_type": "code",
   "execution_count": null,
   "metadata": {},
   "outputs": [],
   "source": [
    "model = Sequential()\n",
    "model.add(Dense(625, activation='tanh', input_shape=(625,)))\n",
    "model.add(Dense(300, activation='relu'))\n",
    "model.add(Dense(150, activation='relu'))\n",
    "model.add(Dense(60, activation='softmax'))\n",
    "\n",
    "model.compile(loss='categorical_crossentropy', optimizer='Adam', metrics=['accuracy'])\n",
    "model.summary()"
   ]
  },
  {
   "cell_type": "code",
   "execution_count": null,
   "metadata": {},
   "outputs": [],
   "source": [
    "# model.fit(X_train, y_train, batch_size=64, epochs=10, verbose=1, validation_data=(X_test, y_test))"
   ]
  },
  {
   "cell_type": "code",
   "execution_count": null,
   "metadata": {
    "collapsed": true
   },
   "outputs": [],
   "source": [
    "X_train = X_train.reshape(29228, 25, 25, 1).astype('float32')\n",
    "X_test = X_test.reshape(9837, 25, 25, 1).astype('float32')\n"
   ]
  },
  {
   "cell_type": "code",
   "execution_count": null,
   "metadata": {},
   "outputs": [],
   "source": [
    "X_train.shape"
   ]
  },
  {
   "cell_type": "code",
   "execution_count": null,
   "metadata": {},
   "outputs": [],
   "source": [
    "cn_model = Sequential()\n",
    "cn_model.add(Conv2D(25, (3, 3), padding='same', input_shape=X_train.shape[1:]))\n",
    "cn_model.add(Activation('relu'))\n",
    "cn_model.add(Conv2D(25, (3, 3), padding='same'))\n",
    "cn_model.add(Activation('relu'))\n",
    "cn_model.add(MaxPooling2D(pool_size=(2, 2)))\n",
    "cn_model.add(Dropout(0.25))\n",
    "\n",
    "cn_model.add(Conv2D(25, (3, 3), padding='same'))\n",
    "cn_model.add(Activation('relu'))\n",
    "cn_model.add(Conv2D(32, (3, 3), padding='same'))\n",
    "cn_model.add(Activation('relu'))\n",
    "cn_model.add(MaxPooling2D(pool_size=(2, 2)))\n",
    "cn_model.add(Dropout(0.25))\n",
    "\n",
    "cn_model.add(Flatten())\n",
    "cn_model.add(Dense(512, activation='relu'))\n",
    "cn_model.add(Dropout(0.5))\n",
    "cn_model.add(Dense(256, activation='relu'))\n",
    "cn_model.add(Dropout(0.5))\n",
    "cn_model.add(Dense(128, activation='relu'))\n",
    "cn_model.add(Dropout(0.5))\n",
    "cn_model.add(Dense(60, activation='softmax'))\n",
    "\n",
    "cn_model.compile(loss='categorical_crossentropy', optimizer='adam', metrics=['accuracy'])\n",
    "\n",
    "cn_model.summary()"
   ]
  },
  {
   "cell_type": "code",
   "execution_count": null,
   "metadata": {},
   "outputs": [],
   "source": [
    "cn_model.fit(X_train, y_train, batch_size=128, epochs=5, validation_data=(X_test, y_test), shuffle=True)"
   ]
  },
  {
   "cell_type": "code",
   "execution_count": null,
   "metadata": {
    "collapsed": true
   },
   "outputs": [],
   "source": [
    "# What is the baseline?\n",
    "# Coin flip? pick the most common option? / what is the ditribution?"
   ]
  },
  {
   "cell_type": "code",
   "execution_count": null,
   "metadata": {
    "collapsed": true
   },
   "outputs": [],
   "source": []
  }
 ],
 "metadata": {
  "kernelspec": {
   "display_name": "Python 3",
   "language": "python",
   "name": "python3"
  },
  "language_info": {
   "codemirror_mode": {
    "name": "ipython",
    "version": 3
   },
   "file_extension": ".py",
   "mimetype": "text/x-python",
   "name": "python",
   "nbconvert_exporter": "python",
   "pygments_lexer": "ipython3",
   "version": "3.6.3"
  }
 },
 "nbformat": 4,
 "nbformat_minor": 2
}
